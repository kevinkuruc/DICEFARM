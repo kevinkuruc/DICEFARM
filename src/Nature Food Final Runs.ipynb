{
 "cells": [
  {
   "cell_type": "code",
   "execution_count": 1,
   "metadata": {},
   "outputs": [
    {
     "name": "stdout",
     "output_type": "stream",
     "text": [
      "Temp Diff is 0.3908844678878576\n"
     ]
    },
    {
     "ename": "LoadError",
     "evalue": "LoadError: \u001b[91mInvalid file extension: C:\\Users\\Kevin\\Documents\\GitHub\\DICEFARM\\Results\\EKM\\Fig1A.tiff\u001b[39m\nin expression starting at C:\\Users\\Kevin\\Documents\\GitHub\\DICEFARM\\src\\The_high_social_costs_of_animal_based_foods_ALLRESULTS.jl:51",
     "output_type": "error",
     "traceback": [
      "LoadError: \u001b[91mInvalid file extension: C:\\Users\\Kevin\\Documents\\GitHub\\DICEFARM\\Results\\EKM\\Fig1A.tiff\u001b[39m\nin expression starting at C:\\Users\\Kevin\\Documents\\GitHub\\DICEFARM\\src\\The_high_social_costs_of_animal_based_foods_ALLRESULTS.jl:51",
      "",
      "Stacktrace:",
      " [1] error(::String, ::String) at .\\error.jl:42",
      " [2] savefig(::Plots.Plot{Plots.GRBackend}, ::String) at C:\\Users\\Kevin\\.julia\\packages\\Plots\\SjqWU\\src\\output.jl:126",
      " [3] savefig(::String) at C:\\Users\\Kevin\\.julia\\packages\\Plots\\SjqWU\\src\\output.jl:129",
      " [4] top-level scope at C:\\Users\\Kevin\\Documents\\GitHub\\DICEFARM\\src\\The_high_social_costs_of_animal_based_foods_ALLRESULTS.jl:51",
      " [5] include(::String) at .\\client.jl:457",
      " [6] top-level scope at In[1]:1",
      " [7] include_string(::Function, ::Module, ::String, ::String) at .\\loading.jl:1091"
     ]
    }
   ],
   "source": [
    "include(\"The_high_social_costs_of_animal_based_foods_ALLRESULTS.jl\")"
   ]
  },
  {
   "cell_type": "code",
   "execution_count": null,
   "metadata": {},
   "outputs": [],
   "source": []
  }
 ],
 "metadata": {
  "kernelspec": {
   "display_name": "Julia 1.5.4",
   "language": "julia",
   "name": "julia-1.5"
  },
  "language_info": {
   "file_extension": ".jl",
   "mimetype": "application/julia",
   "name": "julia",
   "version": "1.5.4"
  }
 },
 "nbformat": 4,
 "nbformat_minor": 2
}
